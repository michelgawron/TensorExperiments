{
 "cells": [
  {
   "cell_type": "code",
   "execution_count": 24,
   "metadata": {
    "collapsed": true
   },
   "outputs": [],
   "source": [
    "from pathlib import Path\n",
    "import gensim\n",
    "import mongoConnection\n",
    "import matplotlib.pyplot as plt\n",
    "import numpy as np"
   ]
  },
  {
   "cell_type": "markdown",
   "metadata": {},
   "source": [
    "# Loading dictionnaries from path"
   ]
  },
  {
   "cell_type": "code",
   "execution_count": 7,
   "metadata": {
    "collapsed": true
   },
   "outputs": [],
   "source": [
    "# Checking if a dictionnary already exists or not\n",
    "my_file_title = Path(\"dict/title/title.dict\")\n",
    "my_file_body = Path(\"dict/body/body.dict\")\n",
    "\n",
    "if not(my_file_body.exists()):\n",
    "    print(\"Do not exist\")\n",
    "    gensim.corpora.Dictionary().save(str(my_file_body))\n",
    "if not(my_file_title.exists()):\n",
    "    gensim.corpora.Dictionary().save(str(my_file_title))"
   ]
  },
  {
   "cell_type": "markdown",
   "metadata": {},
   "source": [
    "# Printing dictionnaries"
   ]
  },
  {
   "cell_type": "code",
   "execution_count": 25,
   "metadata": {},
   "outputs": [
    {
     "name": "stdout",
     "output_type": "stream",
     "text": [
      "55014\n",
      "42917\n"
     ]
    }
   ],
   "source": [
    "# Loading dictionnaries from the disk\n",
    "dict_title = gensim.corpora.Dictionary()\n",
    "dict_title = dict_title.load(str(my_file_title))\n",
    "dict_body = gensim.corpora.Dictionary()\n",
    "dict_body = dict_body.load(str(my_file_body))\n",
    "\n",
    "print(len(list(dict_title.items())))\n",
    "print(len(list(dict_body.items())))"
   ]
  },
  {
   "cell_type": "code",
   "execution_count": 7,
   "metadata": {},
   "outputs": [
    {
     "name": "stdout",
     "output_type": "stream",
     "text": [
      "\n",
      "##### Processing batch number 0 #####\n",
      "\n",
      "\n",
      "##### Processing batch number 1000 #####\n",
      "\n",
      "\n",
      "##### Processing batch number 2000 #####\n",
      "\n",
      "\n",
      "##### Processing batch number 3000 #####\n",
      "\n",
      "\n",
      "##### Processing batch number 4000 #####\n",
      "\n",
      "\n",
      "##### Processing batch number 5000 #####\n",
      "\n",
      "\n",
      "##### Processing batch number 6000 #####\n",
      "\n",
      "\n",
      "##### Processing batch number 7000 #####\n",
      "\n",
      "\n",
      "##### Processing batch number 8000 #####\n",
      "\n",
      "\n",
      "##### Processing batch number 9000 #####\n",
      "\n",
      "\n",
      "##### Processing batch number 10000 #####\n",
      "\n",
      "\n",
      "##### Processing batch number 11000 #####\n",
      "\n",
      "\n",
      "##### Processing batch number 12000 #####\n",
      "\n",
      "\n",
      "##### Processing batch number 13000 #####\n",
      "\n",
      "\n",
      "##### Processing batch number 14000 #####\n",
      "\n",
      "\n",
      "##### Processing batch number 15000 #####\n",
      "\n",
      "\n",
      "##### Processing batch number 16000 #####\n",
      "\n",
      "\n",
      "##### Processing batch number 17000 #####\n",
      "\n",
      "\n",
      "##### Processing batch number 18000 #####\n",
      "\n",
      "\n",
      "##### Processing batch number 19000 #####\n",
      "\n",
      "\n",
      "##### Processing batch number 20000 #####\n",
      "\n",
      "\n",
      "##### Processing batch number 21000 #####\n",
      "\n",
      "\n",
      "##### Processing batch number 22000 #####\n",
      "\n",
      "\n",
      "##### Processing batch number 23000 #####\n",
      "\n",
      "\n",
      "##### Processing batch number 24000 #####\n",
      "\n",
      "\n",
      "##### Processing batch number 25000 #####\n",
      "\n",
      "\n",
      "##### Processing batch number 26000 #####\n",
      "\n",
      "\n",
      "##### Processing batch number 27000 #####\n",
      "\n",
      "\n",
      "##### Processing batch number 28000 #####\n",
      "\n",
      "\n",
      "##### Processing batch number 29000 #####\n",
      "\n",
      "\n",
      "##### Processing batch number 30000 #####\n",
      "\n",
      "\n",
      "##### Processing batch number 31000 #####\n",
      "\n",
      "\n",
      "##### Processing batch number 32000 #####\n",
      "\n",
      "\n",
      "##### Processing batch number 33000 #####\n",
      "\n",
      "\n",
      "##### Processing batch number 34000 #####\n",
      "\n",
      "\n",
      "##### Processing batch number 35000 #####\n",
      "\n",
      "\n",
      "##### Processing batch number 36000 #####\n",
      "\n",
      "\n",
      "##### Processing batch number 37000 #####\n",
      "\n",
      "\n",
      "##### Processing batch number 38000 #####\n",
      "\n",
      "\n",
      "##### Processing batch number 39000 #####\n",
      "\n",
      "\n",
      "##### Processing batch number 40000 #####\n",
      "\n",
      "\n",
      "##### Processing batch number 41000 #####\n",
      "\n",
      "\n",
      "##### Processing batch number 42000 #####\n",
      "\n"
     ]
    }
   ],
   "source": [
    "import pickle\n",
    "\n",
    "\"\"\"\n",
    "Retrieving word count from mongodb and registering it in a list for easier processing\n",
    "\"\"\"\n",
    "\n",
    "mongoCo = mongoConnection.connectToMongo(ignore_unicode_error=True)\n",
    "mongoDb = mongoCo.tensor_exp\n",
    "mongoColl = mongoDb.body_word_count\n",
    "documentList = list(mongoColl.find())\n",
    "docTextList = []\n",
    "\n",
    "for index, document in enumerate(documentList):\n",
    "    if index % 1000 == 0:\n",
    "        print(\"\\n##### Processing batch number \" + str(index) + \" #####\\n\")\n",
    "    \n",
    "    if len(documentList) == 0:\n",
    "        print(\"Nothing to do here\")\n",
    "        exit()\n",
    "    \n",
    "    word_string = str(document[\"_id\"])\n",
    "    word_count = document[\"value\"]\n",
    "    \n",
    "    docTextList.append((word_string, word_count))\n",
    "\n",
    "\"\"\"\n",
    "Saving the list of words\n",
    "\"\"\"\n",
    "\n",
    "with open(\"lists/body/full.txt\", \"wb\") as fp:   #Pickling\n",
    "    pickle.dump(docTextList, fp)\n",
    "    "
   ]
  },
  {
   "cell_type": "markdown",
   "metadata": {},
   "source": [
    "## Counting words\n",
    "\n",
    "The functions below extract word count from the pickle file that we created before and plot their occurences.\n",
    "\n",
    "After plotting we can see that there is a lot of words appearing only between once an dfive times in our corpus. Then, let's delete those words and keep olnly the relevant ones.\n",
    "\n",
    "The second graph shows that after deleting non-relevant words, the resulting dictionnary is much more balanced"
   ]
  },
  {
   "cell_type": "code",
   "execution_count": 41,
   "metadata": {},
   "outputs": [],
   "source": [
    "\"\"\"\n",
    "Plotting word occurences\n",
    "\"\"\"\n",
    "def plot_word_occurences(list_of_words):\n",
    "    lessThanFive = FiveToTen = TenToFifty = FiftyToHundred = HundredToThousand = MoreThanThousand = 0\n",
    "    for tuples in list_of_words:\n",
    "        if tuples[1] < 5:\n",
    "            lessThanFive +=1\n",
    "        elif tuples[1] < 10:\n",
    "            FiveToTen += 1\n",
    "        elif tuples[1] < 50:\n",
    "            TenToFifty += 1\n",
    "        elif tuples[1] < 100:\n",
    "            FiftyToHundred +=1\n",
    "        elif tuples[1] < 1000:\n",
    "            HundredToThousand +=1\n",
    "        else:\n",
    "            MoreThanThousand += 1\n",
    "    \n",
    "    values = [lessThanFive, FiveToTen, TenToFifty, FiftyToHundred, HundredToThousand, MoreThanThousand]\n",
    "    \n",
    "    n_groups = len(values)\n",
    "    \n",
    "    fig, ax = plt.subplots()\n",
    "\n",
    "    index = np.arange(n_groups)\n",
    "    bar_width = 0.35\n",
    "\n",
    "    opacity = 0.4\n",
    "    error_config = {'ecolor': '0.3'}\n",
    "    \n",
    "    rects = ax.bar(index, values, bar_width,\n",
    "                alpha=opacity, color='r', error_kw=error_config)\n",
    "    \n",
    "    \n",
    "    ax.set_xticklabels(('0-5', '5-10', '10-50', '50-100', '100-1000', '1000+'))\n",
    "    \n",
    "    ax.set_xticks(index)\n",
    "    plt.show()"
   ]
  },
  {
   "cell_type": "code",
   "execution_count": 40,
   "metadata": {},
   "outputs": [
    {
     "data": {
      "image/png": "[encoded data removed]",
      "text/plain": [
       "<matplotlib.figure.Figure at 0x7f785ca69588>"
      ]
     },
     "metadata": {},
     "output_type": "display_data"
    },
    {
     "data": {
      "image/png": "[encoded data removed]",
      "text/plain": [
       "<matplotlib.figure.Figure at 0x7f785cc87780>"
      ]
     },
     "metadata": {},
     "output_type": "display_data"
    }
   ],
   "source": [
    "\"\"\"\n",
    "Opening list of words for further processing and deleting non-relevant words\n",
    "\"\"\"\n",
    "\n",
    "title_relevant_words = []\n",
    "\n",
    "with open(\"lists/title/full.txt\", \"rb\") as fp:\n",
    "    title_test = pickle.load(fp)\n",
    "    \n",
    "    # Going through the list of words and keeping those which appear at least 5 times in the corpus\n",
    "    for tuples in test:\n",
    "        if tuples[1] > 5.0:\n",
    "            title_relevant_words.append(tuples)\n",
    "    plot_word_occurences(title_test)\n",
    "    plot_word_occurences(title_relevant_words)   \n",
    "    "
   ]
  },
  {
   "cell_type": "code",
   "execution_count": 39,
   "metadata": {},
   "outputs": [
    {
     "data": {
      "image/png": "[encoded data removed]",
      "text/plain": [
       "<matplotlib.figure.Figure at 0x7f785d0c2780>"
      ]
     },
     "metadata": {},
     "output_type": "display_data"
    },
    {
     "data": {
      "image/png": "[encoded data removed]",
      "text/plain": [
       "<matplotlib.figure.Figure at 0x7f785cde8240>"
      ]
     },
     "metadata": {},
     "output_type": "display_data"
    }
   ],
   "source": [
    "\"\"\"\n",
    "Same thing with the body\n",
    "\"\"\"\n",
    "\n",
    "body_relevant_words = []\n",
    "\n",
    "with open(\"lists/body/full.txt\", \"rb\") as fp:\n",
    "    body_test = pickle.load(fp)\n",
    "    \n",
    "    # Going through the list of words and keeping those which appear at least 5 times in the corpus\n",
    "    for tuples in test:\n",
    "        if tuples[1] > 5.0:\n",
    "            body_relevant_words.append(tuples)\n",
    "    plot_word_occurences(body_test)\n",
    "    plot_word_occurences(body_relevant_words)"
   ]
  },
  {
   "cell_type": "code",
   "execution_count": null,
   "metadata": {
    "collapsed": true
   },
   "outputs": [],
   "source": []
  }
 ],
 "metadata": {
  "kernelspec": {
   "display_name": "Python 3",
   "language": "python",
   "name": "python3"
  },
  "language_info": {
   "codemirror_mode": {
    "name": "ipython",
    "version": 3
   },
   "file_extension": ".py",
   "mimetype": "text/x-python",
   "name": "python",
   "nbconvert_exporter": "python",
   "pygments_lexer": "ipython3",
   "version": "3.6.2"
  }
 },
 "nbformat": 4,
 "nbformat_minor": 2
}
